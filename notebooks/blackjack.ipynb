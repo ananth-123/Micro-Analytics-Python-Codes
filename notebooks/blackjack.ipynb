{
  "nbformat": 4,
  "nbformat_minor": 0,
  "metadata": {
    "colab": {
      "provenance": []
    },
    "kernelspec": {
      "name": "python3",
      "display_name": "Python 3"
    },
    "language_info": {
      "name": "python"
    }
  },
  "cells": [
    {
      "cell_type": "code",
      "execution_count": 4,
      "metadata": {
        "id": "Za5CsqMlRZ6x",
        "colab": {
          "base_uri": "https://localhost:8080/"
        },
        "outputId": "ef00ce02-3872-4522-cedc-9b064e2e247c"
      },
      "outputs": [
        {
          "output_type": "stream",
          "name": "stdout",
          "text": [
            "\n",
            "Do you want to play a game of Blackjack? Type 'y' or 'n': y\n",
            "\n",
            "Your cards: [10, 10], current score: 20\n",
            "Computer's first card: 4\n",
            "\n",
            "Type 'y' to get another card, type 'n' to pass: n\n",
            "\n",
            "Your cards: [10, 10], current score: 20\n",
            "Computer's cards: [4, 7, 4, 10], current score: 25\n",
            "You win!\n"
          ]
        }
      ],
      "source": [
        "import random\n",
        "\n",
        "def deal_card():\n",
        "    cards = [11, 2, 3, 4, 5, 6, 7, 8, 9, 10, 10, 10, 10]\n",
        "    return random.choice(cards)\n",
        "\n",
        "def calculate_score(hand):\n",
        "    score = sum(hand)\n",
        "    if score > 21 and 11 in hand:\n",
        "        hand.remove(11)\n",
        "        hand.append(1)\n",
        "        score = sum(hand)\n",
        "    return score\n",
        "\n",
        "def show_hands(player_hand, dealer_hand, show_dealer_card=False):\n",
        "    print(f\"\\nYour cards: {player_hand}, current score: {calculate_score(player_hand)}\")\n",
        "    if show_dealer_card:\n",
        "        print(f\"Computer's cards: {dealer_hand}, current score: {calculate_score(dealer_hand)}\")\n",
        "    else:\n",
        "        print(f\"Computer's first card: {dealer_hand[0]}\")\n",
        "\n",
        "def blackjack():\n",
        "    player_hand = []\n",
        "    dealer_hand = []\n",
        "\n",
        "    if input(\"\\nDo you want to play a game of Blackjack? Type 'y' or 'n': \") == \"y\":\n",
        "        for _ in range(2):\n",
        "            player_hand.append(deal_card())\n",
        "            dealer_hand.append(deal_card())\n",
        "\n",
        "        show_hands(player_hand, dealer_hand)\n",
        "\n",
        "        should_continue = True\n",
        "        while should_continue:\n",
        "            if input(\"\\nType 'y' to get another card, type 'n' to pass: \") == \"y\":\n",
        "                player_hand.append(deal_card())\n",
        "                show_hands(player_hand, dealer_hand)\n",
        "\n",
        "                if calculate_score(player_hand) > 21:\n",
        "                    show_hands(player_hand, dealer_hand, show_dealer_card=True)\n",
        "                    should_continue = False\n",
        "            else:\n",
        "                should_continue = False\n",
        "\n",
        "        while calculate_score(dealer_hand) < 17:\n",
        "            dealer_hand.append(deal_card())\n",
        "\n",
        "        show_hands(player_hand, dealer_hand, show_dealer_card=True)\n",
        "\n",
        "        player_score = calculate_score(player_hand)\n",
        "        dealer_score = calculate_score(dealer_hand)\n",
        "\n",
        "        if player_score > 21:\n",
        "            print(\"You went bust, you lose!\")\n",
        "        elif dealer_score > 21 or player_score > dealer_score:\n",
        "            print(\"You win!\")\n",
        "        elif player_score < dealer_score:\n",
        "            print(\"You lose!\")\n",
        "        else:\n",
        "            print(\"It's a draw.\")\n",
        "\n",
        "if __name__ == \"__main__\":\n",
        "    blackjack()\n"
      ]
    }
  ]
}